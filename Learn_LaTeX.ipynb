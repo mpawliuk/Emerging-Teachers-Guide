{
 "cells": [
  {
   "cell_type": "markdown",
   "metadata": {},
   "source": [
    "## 0. Learning Outcomes\n",
    "\n",
    "At the end of this activity, you will be able to:\n",
    "\n",
    "1. write mathematical formulas relevant to first year courses in math (MAT 211, MAT 265, MAT 249) in properly formatted LaTeX.\n",
    "2. compile LaTeX formulas in two different settings (e.g. Jupyter notebooks, D2L discussion boards, Overleaf, Markdown).\n",
    "3. find appropriate LaTeX code for unknown symbols.\n",
    "\n",
    "## 1. Introduction\n",
    "\n",
    "You're about to learn how to use LaTeX (pronounced ``Lay-Tech`` or ``Laa-Tech``), a computer language used by mathematicians and physicists to nicely format mathematical expressions. Every math student will eventually need to know how to write in LaTeX, since all math journals are written using LaTeX. It is also used in every online platform that supports math writting, such as Github, Wordpress blogs, and Mathoverflow.\n",
    "\n",
    "Check out the difference between\n",
    "\n",
    "> √(1 + 10/5) = 3\n",
    "\n",
    "and\n",
    "\n",
    "> $ \\sqrt{1 + \\frac{10}{5}} = 3$\n",
    "\n",
    "You can write entire documents in LaTeX, but here we'll focus on equations.\n",
    "\n",
    "### Tasks 1\n",
    "\n",
    "* **Task 1.1**. Identify two differences in the following picture, where the top one is using MS Word, and the bottom one is using LaTeX.\n",
    "* **Task 1.2**. Think of a context where the visual differences might matter to your audience.\n",
    "\n",
    "> ![](http://data-mining.philippe-fournier-viger.com/wp-content/uploads/2017/02/word_vs_latex2-Copy.png)\n",
    "\n",
    "> [Source. Also see here for further discussion.](http://data-mining.philippe-fournier-viger.com/latex-for-making-good-looking-research-papers/)\n",
    "\n",
    "## 2. Technical stuff\n",
    "\n",
    "I'm going to assume that you are using a Jupyter notebook. If you have a UToronto account then you can [set up a Jupyter account for free here](https://utoronto.syzygy.ca/). If you have a UCalgary account then you can [set up a Jupyter account for free here](https://ucalgary.syzygy.ca/).\n",
    "\n",
    "Please do that and copy this file ```Learn_LaTeX.ipynb```. You can then edit it and make it your own.\n",
    "\n",
    "**Having trouble with Syzygy?**. Try [looking here](http://intro.syzygy.ca/getting-started/).\n",
    "\n",
    "**Having trouble with Jupyter?** Try these resources:\n",
    "\n",
    "* [Jupyter Notebook Tutorial - How to use Jupyter Notebooks](https://www.youtube.com/watch?v=KztbY361Kfk). 7 min video.\n",
    "* [Jupyter Notebook for Beginners: A Tutorial](https://www.dataquest.io/blog/jupyter-notebook-tutorial/). Start at the section: \"The notebook interface\".\n",
    "* [Jupyter Notebook Tutorial: The Definitive Guide](https://www.datacamp.com/community/tutorials/tutorial-jupyter-notebook). If you want an deep understanding of these notebooks.\n",
    "\n",
    "### Tasks 2\n",
    "\n",
    "* **Task 2.1**. Start a Syzygy account.\n",
    "* **Task 2.2**. Copy this document into your server.\n",
    "* **Task 2.3**. Modify the following block of text so that the math is correct. To get into editing mode, double click on the block of text. (Once you've modified the code, click ```run``` on the toolbar, or press ```shift + enter``` .)"
   ]
  },
  {
   "cell_type": "markdown",
   "metadata": {},
   "source": [
    "[**Double click here.**] In kindergarten I learned that $1+2 = 4$"
   ]
  },
  {
   "cell_type": "markdown",
   "metadata": {},
   "source": [
    "## 3. The LaTeX environment\n",
    "\n",
    "To tell your computer to interpret a formula as a LaTeX formula, you need to use \n",
    "\n",
    "> ```$\\sqrt{4} = \\pm 2 $```\n",
    "\n",
    "> $\\sqrt{4} = \\pm 2 $\n",
    "\n",
    "The ```$``` act as left and right brackets. You can also use double-dollar signs ```$$``` as brackets, and this will make the LaTeX appear on its own line. (Why might you want to put math on its own line?)\n",
    "\n",
    "> ```My favourite formula is $$\\sqrt{4} = \\pm 2 $$ because I like diagonals.```\n",
    "\n",
    "> My favourite formula is $$\\sqrt{4} = \\pm 2 $$ because I like diagonals.\n",
    "\n",
    "### Tasks 3\n",
    "\n",
    "* **Task 3.1**. Make your own LaTeX formula that says √(9+16) = √25 = ±5."
   ]
  },
  {
   "cell_type": "markdown",
   "metadata": {},
   "source": [
    "[**Double click here. Your formula here.**]"
   ]
  },
  {
   "cell_type": "markdown",
   "metadata": {},
   "source": [
    "* **Task 3.2**. Fix the following formula:"
   ]
  },
  {
   "cell_type": "markdown",
   "metadata": {},
   "source": [
    "In grade 3 I learned that $$\\sqrt{2} \\approx 1.41$"
   ]
  },
  {
   "cell_type": "markdown",
   "metadata": {},
   "source": [
    "* **Task 3.3**. Format the following paragraph in a nice way. Decide when to use in-line math and when the math should appear on its own line."
   ]
  },
  {
   "cell_type": "markdown",
   "metadata": {},
   "source": [
    "**Definition**. A function f(x,u) satisfies the **wave equation** if \\frac{\\partial^2 f}{\\partial x^2} = \\frac{\\partial^2 f}{\\partial u^2} where x,u are independant variables."
   ]
  },
  {
   "cell_type": "markdown",
   "metadata": {},
   "source": [
    "## 4. Powers and subscripts\n",
    "\n",
    "To raise a number to a power, use the carat ```^```.\n",
    "\n",
    "> ```$ x^2 = 4 $ has solutions $ x = \\pm 2$ ```\n",
    "\n",
    "> $ x^2 = 4 $ has solutions $ x = \\pm 2$  \n",
    "\n",
    "You may need to bracket it if you have a power with more than one digit.\n",
    "\n",
    "> ```A googol is $ 10^{100}$, which is a 1 followed by 100 zeros.```\n",
    "\n",
    "> A googol is $ 10^{100}$, which is a 1 followed by 100 zeros.\n",
    "\n",
    "You can stack powers, but sometimes you will want to use brackets to clarify.\n",
    "\n",
    "> ```$a^{b^c} = a^{bc}$```\n",
    "\n",
    "> $a^{b^c} = a^{bc}$\n",
    "\n",
    "Subscripts work in the same way.\n",
    "\n",
    "> ```The third term in the sequence is $ a_3 = \\sqrt{3} $ and the 23rd is $ a_{23} = \\sqrt{23}$.```\n",
    "\n",
    "> The third term in the sequence is $ a_3 = \\sqrt{3} $ and the 23rd is $ a_{23} = \\sqrt{23}$.\n",
    "\n",
    "If you mix superscripts and subscripts, then LaTeX will format them properly; the order doesn't matter.\n",
    "\n",
    "> ```If $a_3 = \\sqrt{3}$, then $ a_3^2 = 3$.```\n",
    "\n",
    "> If $a_3 = \\sqrt{3}$, then $ a_3^2 = 3$.\n",
    "\n",
    "### Tasks 4\n",
    "\n",
    "* **Task 4.1**. Make your own LaTeX formula that says \"a (subscript) n is 2 to the power of n\"."
   ]
  },
  {
   "cell_type": "markdown",
   "metadata": {},
   "source": [
    "[**Double click here. Your formula here.**]"
   ]
  },
  {
   "cell_type": "markdown",
   "metadata": {},
   "source": [
    "* **Task 4.2**. Fix the following formula:"
   ]
  },
  {
   "cell_type": "markdown",
   "metadata": {},
   "source": [
    "In grade 4 I learned that the mass of the earth is $ 5.972 \\times 10^24 $ kg."
   ]
  },
  {
   "cell_type": "markdown",
   "metadata": {},
   "source": [
    "## 5. Fractions\n",
    "\n",
    "There are two ways to make fractions. Here's the most flexible way, but it has a lot of parenthesis.\n",
    "\n",
    "> ```$\\frac{10}{5} = 2$```\n",
    "\n",
    "> $\\frac{10}{5} = 2$\n",
    "\n",
    "If your symbols are only one character, then you can drop the brackets.\n",
    "\n",
    "> ```$ \\frac93 = 3$ and $ \\frac\\pi2 > 1$```\n",
    "\n",
    "> $ \\frac{9}{3} = 3$ and $ \\frac\\pi2 > 1$\n",
    "\n",
    "### Tasks 5\n",
    "\n",
    "* **Task 5.1**. Make your own LaTeX formula that expresses the fact that \"[a half is one sixth more than a third](https://answers.yahoo.com/question/index?qid=20130423231730AAb5IeD&guccounter=1)\"."
   ]
  },
  {
   "cell_type": "markdown",
   "metadata": {},
   "source": [
    "[**Double click here. Your formula here.**]"
   ]
  },
  {
   "cell_type": "markdown",
   "metadata": {},
   "source": [
    "* **Challenge**. Write the [quadratic formula](https://en.wikipedia.org/wiki/Quadratic_formula)!\n",
    "\n",
    "![](https://upload.wikimedia.org/wikipedia/commons/thumb/c/c4/Quadratic_formula.svg/2000px-Quadratic_formula.svg.png)"
   ]
  },
  {
   "cell_type": "markdown",
   "metadata": {},
   "source": [
    "[**Double click here. Your quadratic formula here.**]"
   ]
  },
  {
   "cell_type": "markdown",
   "metadata": {},
   "source": [
    "## 6. Greek letters\n",
    "\n",
    "You can use Greek letters in LaTeX by backslashing and writing the name of the letter. If you capitalize the word it will give you an uppercase Greek letter!\n",
    "\n",
    "> ```$\\pi \\approx 3.14 \\ldots $```    \n",
    "> ```$\\sin^2 \\theta + \\cos^2 \\theta = 1$```    \n",
    "> ```$\\Delta x = x_{n+1} - x_n $```    \n",
    "\n",
    "> $\\pi \\approx 3.14 \\ldots $    \n",
    "> $\\sin^2 \\theta + \\cos^2 \\theta = 1$    \n",
    "> $\\Delta x = x_{n+1} - x_n $    \n",
    "\n",
    "### Tasks 6\n",
    "\n",
    "* **Task 6.1**. Write down a LaTeX formula that says that [sine is an odd function](https://www.mathsisfun.com/algebra/functions-odd-even.html)."
   ]
  },
  {
   "cell_type": "markdown",
   "metadata": {},
   "source": [
    "[**Double click here. Your formula here.**]"
   ]
  },
  {
   "cell_type": "markdown",
   "metadata": {},
   "source": [
    "* **Task 6.2**. Write down the relationship that [the golden ratio has with its inverse](https://en.wikipedia.org/wiki/Golden_ratio#Calculation)."
   ]
  },
  {
   "cell_type": "markdown",
   "metadata": {},
   "source": [
    "[**Double click here. Your formula here.**]"
   ]
  },
  {
   "cell_type": "markdown",
   "metadata": {},
   "source": [
    "## 7. Special symbols\n",
    "\n",
    "To write many common functions, use a backslash in front of the word. It won't always work, but we'll talk about troubleshooting in the next section.\n",
    "\n",
    "> ```$\\lim_{x \\to \\infty} \\frac{1}{x} = 0$```     \n",
    "> ```$ \\int x^2 = \\frac{x^3}{3}$```    \n",
    "\n",
    "> $\\lim_{x \\to \\infty} \\frac{1}{x} = 0$     \n",
    "> $ \\int x^2 = \\frac{x^3}{3}$    \n",
    "\n",
    "### Tasks 7\n",
    "\n",
    "* **Task 7.1**. Write down a LaTeX formula for the Pythagoras formula involving tangent and secant."
   ]
  },
  {
   "cell_type": "markdown",
   "metadata": {},
   "source": [
    "[**Double click here. Your formula here.**]"
   ]
  },
  {
   "cell_type": "markdown",
   "metadata": {},
   "source": [
    "* **Task 7.2**. Write down [the value of arctan of 1](https://www.rapidtables.com/math/trigonometry/arctan.html)."
   ]
  },
  {
   "cell_type": "markdown",
   "metadata": {},
   "source": [
    "[**Double click here. Your formula here.**]"
   ]
  },
  {
   "cell_type": "markdown",
   "metadata": {},
   "source": [
    "* Task 7.3. The limit in the first example looks a bit off. Use double dollar signs to get the formula to appear in display mode. This will naturally give beautifully formatted formulas.\n",
    "\n",
    "**Challenge**: Find out (by searching the internet) how to display math inline, but in *display mode*."
   ]
  },
  {
   "cell_type": "markdown",
   "metadata": {},
   "source": [
    "$\\lim_{x \\to \\infty} \\frac{1}{x} = 0$"
   ]
  },
  {
   "cell_type": "markdown",
   "metadata": {},
   "source": [
    "## 8. Looking up unknown symbols\n",
    "\n",
    "LaTeX supports a *lot* of symbols, and you don't need to memorize them. You'll naturally learn the ones you use, and for all the others, you can look them up online.\n",
    "\n",
    "There are [lists of common symbols](https://oeis.org/wiki/List_of_LaTeX_mathematical_symbols).\n",
    "\n",
    "You can also use [DeTexify](http://detexify.kirelabs.org/classify.html) to draw the symbols and have the computer guess what you're writing!\n",
    "\n",
    "### Tasks 8\n",
    "\n",
    "* **Task 8.1**. Write down a LaTeX formula for the fact that sine is always greater than its argument, for positive arguments."
   ]
  },
  {
   "cell_type": "markdown",
   "metadata": {},
   "source": [
    "[**Double click here. Your formula here.**]"
   ]
  },
  {
   "cell_type": "markdown",
   "metadata": {},
   "source": [
    "* **Task 8.2**. Find the symbol for the natural numbers."
   ]
  },
  {
   "cell_type": "markdown",
   "metadata": {},
   "source": [
    "[**Double click here. Your formula here.**]"
   ]
  },
  {
   "cell_type": "markdown",
   "metadata": {},
   "source": [
    "## 9. Using LaTeX in other places.\n",
    "\n",
    "We've focused on using LaTeX in Jupyter notebooks, but we can use it in other places. All of the symbols are the same, but we might need to change how we tell the computer we're using LaTeX.\n",
    "\n",
    "For example, everything we've learned applies to Wordpress blogs and Mathoverflow. (Technically, we're using the MathJax plugin.)\n",
    "\n",
    "Some places, like Wordpress blogs with the MathJax plugin, to signal that you're using LaTeX you need to say ```$latex 1+1=2$```, and sometimes you'll need to use ```[latex] 1+1=2 [/latex]```. [See here](https://wordpress.org/plugins/mathjax-latex/) for a discussion.\n",
    "\n",
    "[Overleaf](https://www.overleaf.com/) is the standard online editor for LaTeX, and is supported by many scientific journals.\n",
    "\n",
    "In Piazza, an online discussion board, you can include LaTeX formulas in discussion posts by using ```$$ 1+1=2 $$```. Piazza does not support in-line LaTeX. \n",
    "\n",
    "In D2L, University of Calgary's Learning Management System, you can include LaTeX formulas in discussion posts by clicking on the ```\\∑ LaTeX Equation``` button when making a post. This opens up an equation editor, so you won't need to add ```$```s. \n",
    "\n",
    "![](https://bgrasley.files.wordpress.com/2015/02/latex03.png)\n",
    "\n",
    "> [Source](https://bgrasley.wordpress.com/2015/02/09/latex-math-for-e-learning-in-d2l/) with more discussion.\n",
    "\n",
    "### Tasks 9\n",
    "\n",
    "* **Task 9.1**. Make a picture of a nice math formula using the website [Latex2PNG](http://latex2png.com/). Find a website that will let you print it onto a shirt."
   ]
  },
  {
   "cell_type": "markdown",
   "metadata": {},
   "source": [
    "[**Double click here. Your formula here.**]"
   ]
  },
  {
   "cell_type": "markdown",
   "metadata": {},
   "source": [
    "* **Task 9.2**. Open an [Overleaf](https://www.overleaf.com/) account, and start a document from one of their templates. Write your favourite LaTeX formula in it. Share the document with a friend, and ask them to write their favourite formula in it."
   ]
  },
  {
   "cell_type": "markdown",
   "metadata": {},
   "source": [
    "[**Double click here. Your formula here.**]"
   ]
  },
  {
   "cell_type": "markdown",
   "metadata": {},
   "source": [
    "## 10. Next steps and Reflection\n",
    "\n",
    "You are well on the way to writing beautiful, readable math text. Your next step is to dive write in and write something in LaTeX. \n",
    "\n",
    "* Make a comment on a math blog, \n",
    "* Write up a short homework in Overleaf, or \n",
    "* Edit a Wikipedia article about math.\n",
    "\n",
    "Take a moment to think about a place you might use LaTeX in the future. How long do you think it will take to use LaTeX in that context the first time you use it?\n",
    "\n",
    "![](https://i.stack.imgur.com/SFhtj.jpg)\n",
    "\n",
    "For more resources check out:\n",
    "\n",
    "* [MATH 210 course textbook](https://www.math.ubc.ca/~pwalls/math-python/jupyter/latex/). This course is entirely done on Jupyter notebooks, and this is the section that introduces how to use LaTeX.\n",
    "* [Markdown & LaTeX - Jupyter Video Tutorial](https://www.youtube.com/watch?v=-F4WS8o-G2A)."
   ]
  },
  {
   "cell_type": "code",
   "execution_count": null,
   "metadata": {},
   "outputs": [],
   "source": []
  }
 ],
 "metadata": {
  "kernelspec": {
   "display_name": "Python 3",
   "language": "python",
   "name": "python3"
  },
  "language_info": {
   "codemirror_mode": {
    "name": "ipython",
    "version": 3
   },
   "file_extension": ".py",
   "mimetype": "text/x-python",
   "name": "python",
   "nbconvert_exporter": "python",
   "pygments_lexer": "ipython3",
   "version": "3.6.5"
  }
 },
 "nbformat": 4,
 "nbformat_minor": 2
}
